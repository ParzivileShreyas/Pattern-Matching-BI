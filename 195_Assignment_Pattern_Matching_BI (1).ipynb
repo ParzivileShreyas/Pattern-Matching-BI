{
  "nbformat": 4,
  "nbformat_minor": 0,
  "metadata": {
    "colab": {
      "provenance": [],
      "gpuType": "T4"
    },
    "kernelspec": {
      "name": "python3",
      "display_name": "Python 3"
    },
    "language_info": {
      "name": "python"
    },
    "accelerator": "GPU"
  },
  "cells": [
    {
      "cell_type": "code",
      "execution_count": null,
      "metadata": {
        "colab": {
          "base_uri": "https://localhost:8080/"
        },
        "id": "X4ACfdKaJoT2",
        "outputId": "f7de2f0e-d69b-4435-df27-0c35f0190b69"
      },
      "outputs": [
        {
          "output_type": "stream",
          "name": "stdout",
          "text": [
            "Suspicious Activity Detected:\n",
            "Downloading file from suspiciousdomain.com\n",
            "File transfer initiated to external device\n",
            "Login attempt from IP 203.0.113.5\n"
          ]
        }
      ],
      "source": [
        "# Function to load data from a file\n",
        "def load_data(file_path):\n",
        "    with open(file_path, 'r') as file:\n",
        "        data = file.readlines()\n",
        "    return [line.strip() for line in data]\n",
        "\n",
        "# Function to find matches\n",
        "def find_matches(data, patterns):\n",
        "    matches = []\n",
        "    for line in data:\n",
        "        for pattern in patterns:\n",
        "            if pattern in line:\n",
        "                matches.append(line)\n",
        "    return matches\n",
        "\n",
        "# Load network traffic data\n",
        "network_data = load_data('/content/network_traffic.txt')\n",
        "\n",
        "# Load threat signatures\n",
        "threat_signatures = load_data('/content/threat_signatures.txt')\n",
        "\n",
        "# Find matches\n",
        "matches = find_matches(network_data, threat_signatures)\n",
        "\n",
        "# Print results\n",
        "print(\"Suspicious Activity Detected:\")\n",
        "for match in matches:\n",
        "    print(match)"
      ]
    },
    {
      "cell_type": "markdown",
      "source": [
        "Task 1: Extend the Pattern Matching\n",
        "Objective: Enhance the pattern matching script to be case-insensitive.\n",
        "\n",
        "Instructions:\n",
        "\n",
        "Modify the find_matches function to ensure the pattern matching is case-insensitive.\n",
        "Test the updated script with the provided example files where some patterns are in different cases."
      ],
      "metadata": {
        "id": "zGXTITfdK7m-"
      }
    },
    {
      "cell_type": "code",
      "source": [
        "# Function to load data from a file\n",
        "def load_data(file_path):\n",
        "    with open(file_path, 'r') as file:\n",
        "        data = file.readlines()\n",
        "    return [line.strip() for line in data]\n",
        "\n",
        "# Function to find matches (case-insensitive)\n",
        "def find_matches(data, patterns):\n",
        "    matches = []\n",
        "    for line in data:\n",
        "        for pattern in patterns:\n",
        "            if pattern.lower() in line.lower():\n",
        "                matches.append(line)\n",
        "    return matches\n",
        "\n",
        "# Load network traffic data\n",
        "network_data = load_data('network_traffic.txt')\n",
        "\n",
        "# Load threat signatures\n",
        "threat_signatures = load_data('threat_signatures.txt')\n",
        "\n",
        "# Find matches\n",
        "matches = find_matches(network_data, threat_signatures)\n",
        "\n",
        "# Print results\n",
        "print(\"Suspicious Activity Detected:\")\n",
        "for match in matches:\n",
        "    print(match)"
      ],
      "metadata": {
        "id": "9mM5z2M2K8yw",
        "colab": {
          "base_uri": "https://localhost:8080/"
        },
        "outputId": "32654a16-7f4e-494b-9e96-e9e67b2283ba"
      },
      "execution_count": null,
      "outputs": [
        {
          "output_type": "stream",
          "name": "stdout",
          "text": [
            "Suspicious Activity Detected:\n",
            "Downloading file from suspiciousdomain.com\n",
            "File transfer initiated to external device\n",
            "Login attempt from IP 203.0.113.5\n"
          ]
        }
      ]
    },
    {
      "cell_type": "markdown",
      "source": [
        "Task 2: Add Logging Functionality\n",
        "Objective: Add logging to the pattern matching script to record detected threats in a separate log file.\n",
        "\n",
        "Instructions:\n",
        "\n",
        "Implement logging in the script to write matches to a file named detected_threats.log.\n",
        "Each log entry should include a timestamp and the detected suspicious activity.\n"
      ],
      "metadata": {
        "id": "yILrHA57K_j_"
      }
    },
    {
      "cell_type": "code",
      "source": [
        "import datetime\n",
        "\n",
        "# Function to load data from a file\n",
        "def load_data(file_path):\n",
        "    with open(file_path, 'r') as file:\n",
        "        data = file.readlines()\n",
        "    return [line.strip() for line in data]\n",
        "\n",
        "# Function to find matches (case-insensitive)\n",
        "def find_matches(data, patterns):\n",
        "    matches = []\n",
        "    for line in data:\n",
        "        for pattern in patterns:\n",
        "            if pattern.lower() in line.lower():\n",
        "                matches.append(line)\n",
        "    return matches\n",
        "\n",
        "# Function to log matches with timestamp\n",
        "def log_matches(matches, log_file):\n",
        "    with open(log_file, 'a') as file:\n",
        "        for match in matches:\n",
        "            file.write(f\"{datetime.datetime.now()}: {match}\\n\")\n",
        "\n",
        "# Load network traffic data\n",
        "network_data = load_data('network_traffic.txt')\n",
        "\n",
        "# Load threat signatures\n",
        "threat_signatures = load_data('threat_signatures.txt')\n",
        "\n",
        "# Find matches\n",
        "matches = find_matches(network_data, threat_signatures)\n",
        "\n",
        "# Log matches\n",
        "log_matches(matches, 'detected_threats.log')\n",
        "\n",
        "# Print results\n",
        "print(\"Suspicious Activity Detected:\")\n",
        "for match in matches:\n",
        "    print(match)\n"
      ],
      "metadata": {
        "id": "J6jiVIQwLEV5",
        "colab": {
          "base_uri": "https://localhost:8080/"
        },
        "outputId": "78215f47-dec8-4c69-9c4d-dcf05d1df1df"
      },
      "execution_count": null,
      "outputs": [
        {
          "output_type": "stream",
          "name": "stdout",
          "text": [
            "Suspicious Activity Detected:\n",
            "Downloading file from suspiciousdomain.com\n",
            "File transfer initiated to external device\n",
            "Login attempt from IP 203.0.113.5\n"
          ]
        }
      ]
    },
    {
      "cell_type": "markdown",
      "source": [
        "Task 3: Exclude False Positives\n",
        "Objective: Implement a feature to exclude specific patterns that are known false positives.\n",
        "\n",
        "Instructions:\n",
        "\n",
        "Create a new file false_positives.txt with patterns to exclude.\n",
        "Modify the script to ignore matches found in the false_positives.txt file.\n",
        "Test the script to ensure it correctly excludes false positives."
      ],
      "metadata": {
        "id": "iBPEDrkBLE-c"
      }
    },
    {
      "cell_type": "code",
      "source": [
        "def create_file(file_name, content):\n",
        "    with open(file_name, 'w') as file:\n",
        "        file.write(content)\n",
        "\n",
        "# Content for false_positives.txt\n",
        "false_positives_content = \"\"\"User logged in\"\"\"\n",
        "\n",
        "# Create the files\n",
        "create_file('false_positives.txt', false_positives_content)\n"
      ],
      "metadata": {
        "id": "OkzBkmRWhXJ1"
      },
      "execution_count": null,
      "outputs": []
    },
    {
      "cell_type": "code",
      "source": [
        "import datetime\n",
        "\n",
        "# Function to load data from a file\n",
        "def load_data(file_path):\n",
        "    with open(file_path, 'r') as file:\n",
        "        data = file.readlines()\n",
        "    return [line.strip() for line in data]\n",
        "\n",
        "# Function to find matches (case-insensitive)\n",
        "def find_matches(data, patterns):\n",
        "    matches = []\n",
        "    for line in data:\n",
        "        for pattern in patterns:\n",
        "            if pattern.lower() in line.lower():\n",
        "                matches.append(line)\n",
        "    return matches\n",
        "\n",
        "# Function to exclude false positives\n",
        "def exclude_false_positives(matches, false_positives):\n",
        "    filtered_matches = []\n",
        "    for match in matches:\n",
        "        is_false_positive = any(fp.lower() in match.lower() for fp in false_positives)\n",
        "        if not is_false_positive:\n",
        "            filtered_matches.append(match)\n",
        "    return filtered_matches\n",
        "\n",
        "# Function to log matches with timestamp\n",
        "def log_matches(matches, log_file):\n",
        "    with open(log_file, 'a') as file:\n",
        "        for match in matches:\n",
        "            file.write(f\"{datetime.datetime.now()}: {match}\\n\")\n",
        "\n",
        "# Load network traffic data\n",
        "network_data = load_data('network_traffic.txt')\n",
        "\n",
        "# Load threat signatures\n",
        "threat_signatures = load_data('threat_signatures.txt')\n",
        "\n",
        "# Load false positives\n",
        "false_positives = load_data('false_positives.txt')\n",
        "\n",
        "# Find matches\n",
        "matches = find_matches(network_data, threat_signatures)\n",
        "\n",
        "# Exclude false positives\n",
        "matches = exclude_false_positives(matches, false_positives)\n",
        "\n",
        "# Log matches\n",
        "log_matches(matches, 'detected_threats.log')\n",
        "\n",
        "# Print results\n",
        "print(\"Suspicious Activity Detected:\")\n",
        "for match in matches:\n",
        "    print(match)\n"
      ],
      "metadata": {
        "id": "24v7rcQXLHah",
        "colab": {
          "base_uri": "https://localhost:8080/"
        },
        "outputId": "d88ba506-03b1-4f0e-c9db-9a1dd54ed5c3"
      },
      "execution_count": null,
      "outputs": [
        {
          "output_type": "stream",
          "name": "stdout",
          "text": [
            "Suspicious Activity Detected:\n",
            "Downloading file from suspiciousdomain.com\n",
            "File transfer initiated to external device\n",
            "Login attempt from IP 203.0.113.5\n"
          ]
        }
      ]
    },
    {
      "cell_type": "markdown",
      "source": [
        "Task 4: Create a Summary Report\n",
        "Objective: Generate a summary report of the pattern matching results.\n",
        "\n",
        "Instructions:\n",
        "\n",
        "Modify the script to create a summary report named summary_report.txt.\n",
        "The report should include the total number of lines checked, total matches found, and a list of unique threat signatures detected."
      ],
      "metadata": {
        "id": "DJM4RKYKLICi"
      }
    },
    {
      "cell_type": "code",
      "source": [
        "import datetime\n",
        "\n",
        "# Function to load data from a file\n",
        "def load_data(file_path):\n",
        "    with open(file_path, 'r') as file:\n",
        "        data = file.readlines()\n",
        "    return [line.strip() for line in data]\n",
        "\n",
        "# Function to find matches (case-insensitive)\n",
        "def find_matches(data, patterns):\n",
        "    matches = []\n",
        "    for line in data:\n",
        "        for pattern in patterns:\n",
        "            if pattern.lower() in line.lower():\n",
        "                matches.append(line)\n",
        "    return matches\n",
        "\n",
        "# Function to exclude false positives\n",
        "def exclude_false_positives(matches, false_positives):\n",
        "    filtered_matches = []\n",
        "    for match in matches:\n",
        "        is_false_positive = any(fp.lower() in match.lower() for fp in false_positives)\n",
        "        if not is_false_positive:\n",
        "            filtered_matches.append(match)\n",
        "    return filtered_matches\n",
        "\n",
        "# Function to log matches with timestamp\n",
        "def log_matches(matches, log_file):\n",
        "    with open(log_file, 'a') as file:\n",
        "        for match in matches:\n",
        "            file.write(f\"{datetime.datetime.now()}: {match}\\n\")\n",
        "\n",
        "# Function to generate summary report\n",
        "def generate_summary_report(data, matches, summary_file):\n",
        "    unique_signatures = set(matches)\n",
        "    with open(summary_file, 'w') as file:\n",
        "        file.write(f\"Total lines checked: {len(data)}\\n\")\n",
        "        file.write(f\"Total matches found: {len(matches)}\\n\")\n",
        "        file.write(\"Unique threat signatures detected:\\n\")\n",
        "        for signature in unique_signatures:\n",
        "            file.write(f\"{signature}\\n\")\n",
        "\n",
        "# Load network traffic data\n",
        "network_data = load_data('network_traffic.txt')\n",
        "\n",
        "# Load threat signatures\n",
        "threat_signatures = load_data('threat_signatures.txt')\n",
        "\n",
        "# Load false positives\n",
        "false_positives = load_data('false_positives.txt')\n",
        "\n",
        "# Find matches\n",
        "matches = find_matches(network_data, threat_signatures)\n",
        "\n",
        "# Exclude false positives\n",
        "matches = exclude_false_positives(matches, false_positives)\n",
        "\n",
        "# Log matches\n",
        "log_matches(matches, 'detected_threats.log')\n",
        "\n",
        "# Generate summary report\n",
        "generate_summary_report(network_data, matches, 'summary_report.txt')\n",
        "\n",
        "# Print results\n",
        "print(\"Suspicious Activity Detected:\")\n",
        "for match in matches:\n",
        "    print(match)\n"
      ],
      "metadata": {
        "id": "M-9x8XCDLKX5",
        "colab": {
          "base_uri": "https://localhost:8080/"
        },
        "outputId": "ce5cb181-f5d3-46fd-b795-3b5a360f6354"
      },
      "execution_count": null,
      "outputs": [
        {
          "output_type": "stream",
          "name": "stdout",
          "text": [
            "Suspicious Activity Detected:\n",
            "Downloading file from suspiciousdomain.com\n",
            "File transfer initiated to external device\n",
            "Login attempt from IP 203.0.113.5\n"
          ]
        }
      ]
    },
    {
      "cell_type": "markdown",
      "source": [
        "Task 5: Visualize the Results\n",
        "Objective: Visualize the pattern matching results using a simple bar chart.\n",
        "\n",
        "Instructions:\n",
        "\n",
        "Use a Python library like matplotlib to create a bar chart of the frequency of each detected threat signature.\n",
        "Save the bar chart as an image file named threat_analysis.png.\n",
        "The chart should have threat signatures on the x-axis and their frequency on the y-axis."
      ],
      "metadata": {
        "id": "dBHrZ7ECLK5L"
      }
    },
    {
      "cell_type": "code",
      "source": [
        "import datetime\n",
        "import matplotlib.pyplot as plt\n",
        "from collections import Counter\n",
        "\n",
        "# Function to load data from a file\n",
        "def load_data(file_path):\n",
        "    with open(file_path, 'r') as file:\n",
        "        data = file.readlines()\n",
        "    return [line.strip() for line in data]\n",
        "\n",
        "# Function to find matches (case-insensitive)\n",
        "def find_matches(data, patterns):\n",
        "    matches = []\n",
        "    for line in data:\n",
        "        for pattern in patterns:\n",
        "            if pattern.lower() in line.lower():\n",
        "                matches.append(line)\n",
        "    return matches\n",
        "\n",
        "# Function to exclude false positives\n",
        "def exclude_false_positives(matches, false_positives):\n",
        "    filtered_matches = []\n",
        "    for match in matches:\n",
        "        is_false_positive = any(fp.lower() in match.lower() for fp in false_positives)\n",
        "        if not is_false_positive:\n",
        "            filtered_matches.append(match)\n",
        "    return filtered_matches\n",
        "\n",
        "# Function to log matches with timestamp\n",
        "def log_matches(matches, log_file):\n",
        "    with open(log_file, 'a') as file:\n",
        "        for match in matches:\n",
        "            file.write(f\"{datetime.datetime.now()}: {match}\\n\")\n",
        "\n",
        "# Function to generate summary report\n",
        "def generate_summary_report(data, matches, summary_file):\n",
        "    unique_signatures = set(matches)\n",
        "    with open(summary_file, 'w') as file:\n",
        "        file.write(f\"Total lines checked: {len(data)}\\n\")\n",
        "        file.write(f\"Total matches found: {len(matches)}\\n\")\n",
        "        file.write(\"Unique threat signatures detected:\\n\")\n",
        "        for signature in unique_signatures:\n",
        "            file.write(f\"{signature}\\n\")\n",
        "\n",
        "# Function to visualize results\n",
        "def visualize_results(matches, output_image):\n",
        "    match_counts = Counter(matches)\n",
        "    signatures = list(match_counts.keys())\n",
        "    frequencies = list(match_counts.values())\n",
        "\n",
        "    plt.figure(figsize=(10, 5))\n",
        "    plt.bar(signatures, frequencies, color='blue')\n",
        "    plt.xlabel('Threat Signatures')\n",
        "    plt.ylabel('Frequency')\n",
        "    plt.title('Frequency of Detected Threat Signatures')\n",
        "    plt.xticks(rotation=45, ha='right')\n",
        "    plt.tight_layout()\n",
        "    plt.savefig(output_image)\n",
        "\n",
        "# Load network traffic data\n",
        "network_data = load_data('network_traffic.txt')\n",
        "\n",
        "# Load threat signatures\n",
        "threat_signatures = load_data('threat_signatures.txt')\n",
        "\n",
        "# Load false positives\n",
        "false_positives = load_data('false_positives.txt')\n",
        "\n",
        "# Find matches\n",
        "matches = find_matches(network_data, threat_signatures)\n",
        "\n",
        "# Exclude false positives\n",
        "matches = exclude_false_positives(matches, false_positives)\n",
        "\n",
        "# Log matches\n",
        "log_matches(matches, 'detected_threats.log')\n",
        "\n",
        "# Generate summary report\n",
        "generate_summary_report(network_data, matches, 'summary_report.txt')\n",
        "\n",
        "# Visualize results\n",
        "visualize_results(matches, 'threat_analysis.png')\n",
        "\n",
        "# Print results\n",
        "print(\"Suspicious Activity Detected:\")\n",
        "for match in matches:\n",
        "    print(match)\n"
      ],
      "metadata": {
        "id": "wdz8hYM0LPnQ",
        "colab": {
          "base_uri": "https://localhost:8080/",
          "height": 576
        },
        "outputId": "1751d0d4-a1ea-4f23-cdf0-865d7dbb6b4a"
      },
      "execution_count": null,
      "outputs": [
        {
          "output_type": "stream",
          "name": "stdout",
          "text": [
            "Suspicious Activity Detected:\n",
            "Downloading file from suspiciousdomain.com\n",
            "File transfer initiated to external device\n",
            "Login attempt from IP 203.0.113.5\n"
          ]
        },
        {
          "output_type": "display_data",
          "data": {
            "text/plain": [
              "<Figure size 1000x500 with 1 Axes>"
            ],
            "image/png": "[encoded data removed]"
          },
          "metadata": {}
        }
      ]
    }
  ]
}